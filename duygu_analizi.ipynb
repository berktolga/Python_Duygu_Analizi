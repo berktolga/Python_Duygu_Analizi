{
 "cells": [
  {
   "cell_type": "code",
   "execution_count": 1,
   "metadata": {},
   "outputs": [],
   "source": [
    "import os \n",
    "import pandas as pd"
   ]
  },
  {
   "cell_type": "code",
   "execution_count": 2,
   "metadata": {},
   "outputs": [],
   "source": [
    "# Dosyaların Okunması İşlemi Yapıldı.\n",
    "folderpath = r\"C:\\Users\\ASUS\\Desktop\\metin_madenciligi_ara_sinav\\metinler\"\n",
    "filepaths  = [os.path.join(folderpath, name) for name in os.listdir(folderpath)]\n",
    "all_files=[]\n",
    "\n",
    "for path in filepaths:\n",
    "    with open(path, 'r') as f:\n",
    "        file = f.read()\n",
    "        all_files.append([file])       "
   ]
  },
  {
   "cell_type": "code",
   "execution_count": 3,
   "metadata": {},
   "outputs": [],
   "source": [
    "# Dosya adları alındı.\n",
    "dosya_adi = os.listdir(r\"C:\\Users\\ASUS\\Desktop\\metin_madenciligi_ara_sinav\\metinler\")  "
   ]
  },
  {
   "cell_type": "code",
   "execution_count": 4,
   "metadata": {},
   "outputs": [],
   "source": [
    "train_d = pd.DataFrame(all_files,columns=[\"Metinler\"])"
   ]
  },
  {
   "cell_type": "code",
   "execution_count": 5,
   "metadata": {},
   "outputs": [],
   "source": [
    "train_d[\"Dosya_adi\"] = dosya_adi"
   ]
  },
  {
   "cell_type": "code",
   "execution_count": 6,
   "metadata": {},
   "outputs": [
    {
     "data": {
      "text/html": [
       "<div>\n",
       "<style scoped>\n",
       "    .dataframe tbody tr th:only-of-type {\n",
       "        vertical-align: middle;\n",
       "    }\n",
       "\n",
       "    .dataframe tbody tr th {\n",
       "        vertical-align: top;\n",
       "    }\n",
       "\n",
       "    .dataframe thead th {\n",
       "        text-align: right;\n",
       "    }\n",
       "</style>\n",
       "<table border=\"1\" class=\"dataframe\">\n",
       "  <thead>\n",
       "    <tr style=\"text-align: right;\">\n",
       "      <th></th>\n",
       "      <th>Metinler</th>\n",
       "      <th>Dosya_adi</th>\n",
       "    </tr>\n",
       "  </thead>\n",
       "  <tbody>\n",
       "    <tr>\n",
       "      <th>0</th>\n",
       "      <td>Bugün okulun 3. haftası başladı. Sonunda sınıf...</td>\n",
       "      <td>1.txt</td>\n",
       "    </tr>\n",
       "    <tr>\n",
       "      <th>1</th>\n",
       "      <td>Merhabalar, şu an çırağan'ın efsane tayfasının...</td>\n",
       "      <td>10.txt</td>\n",
       "    </tr>\n",
       "    <tr>\n",
       "      <th>2</th>\n",
       "      <td>Istanbul’un altini üstüne getirdik diyebilirim...</td>\n",
       "      <td>100.txt</td>\n",
       "    </tr>\n",
       "    <tr>\n",
       "      <th>3</th>\n",
       "      <td>hey hey!!!! o kadar mutluyum ki. sınavlarım bi...</td>\n",
       "      <td>101.txt</td>\n",
       "    </tr>\n",
       "    <tr>\n",
       "      <th>4</th>\n",
       "      <td>29 Ocak 2007 günü ilk yazımın yayınlandığı Mil...</td>\n",
       "      <td>102.txt</td>\n",
       "    </tr>\n",
       "    <tr>\n",
       "      <th>...</th>\n",
       "      <td>...</td>\n",
       "      <td>...</td>\n",
       "    </tr>\n",
       "    <tr>\n",
       "      <th>130</th>\n",
       "      <td>Dünyaya boynuna kadar borçla gelen masum bir y...</td>\n",
       "      <td>95.txt</td>\n",
       "    </tr>\n",
       "    <tr>\n",
       "      <th>131</th>\n",
       "      <td>kalbin ağlasada gülümse inadına\\ndüşler takıp ...</td>\n",
       "      <td>96.txt</td>\n",
       "    </tr>\n",
       "    <tr>\n",
       "      <th>132</th>\n",
       "      <td>yağmurun sesine bak \\naşka davet ediyor \\ncama...</td>\n",
       "      <td>97.txt</td>\n",
       "    </tr>\n",
       "    <tr>\n",
       "      <th>133</th>\n",
       "      <td>Bu yazıya başlık koyamadım...o kadar üzgünüm k...</td>\n",
       "      <td>98.txt</td>\n",
       "    </tr>\n",
       "    <tr>\n",
       "      <th>134</th>\n",
       "      <td>O kadar üzgünüm ki..O kadar üzgünüm ki...Yaşan...</td>\n",
       "      <td>99.txt</td>\n",
       "    </tr>\n",
       "  </tbody>\n",
       "</table>\n",
       "<p>135 rows × 2 columns</p>\n",
       "</div>"
      ],
      "text/plain": [
       "                                              Metinler Dosya_adi\n",
       "0    Bugün okulun 3. haftası başladı. Sonunda sınıf...     1.txt\n",
       "1    Merhabalar, şu an çırağan'ın efsane tayfasının...    10.txt\n",
       "2    Istanbul’un altini üstüne getirdik diyebilirim...   100.txt\n",
       "3    hey hey!!!! o kadar mutluyum ki. sınavlarım bi...   101.txt\n",
       "4    29 Ocak 2007 günü ilk yazımın yayınlandığı Mil...   102.txt\n",
       "..                                                 ...       ...\n",
       "130  Dünyaya boynuna kadar borçla gelen masum bir y...    95.txt\n",
       "131  kalbin ağlasada gülümse inadına\\ndüşler takıp ...    96.txt\n",
       "132  yağmurun sesine bak \\naşka davet ediyor \\ncama...    97.txt\n",
       "133  Bu yazıya başlık koyamadım...o kadar üzgünüm k...    98.txt\n",
       "134  O kadar üzgünüm ki..O kadar üzgünüm ki...Yaşan...    99.txt\n",
       "\n",
       "[135 rows x 2 columns]"
      ]
     },
     "execution_count": 6,
     "metadata": {},
     "output_type": "execute_result"
    }
   ],
   "source": [
    "train_d"
   ]
  },
  {
   "cell_type": "code",
   "execution_count": 7,
   "metadata": {},
   "outputs": [],
   "source": [
    "#Küçük Harfe Dönüştürme\n",
    "train_d[\"Metinler\"] = train_d[\"Metinler\"].apply(lambda x: \" \".join(x.lower() for x in x.split()))\n",
    "#Noktalama İşaretlerini Silinmesi\n",
    "train_d[\"Metinler\"] =train_d[\"Metinler\"].str.replace('[^\\w\\s]','')\n",
    "#Sayıların Silinmesi\n",
    "train_d[\"Metinler\"] = train_d[\"Metinler\"].str.replace('\\d','')"
   ]
  },
  {
   "cell_type": "code",
   "execution_count": 8,
   "metadata": {},
   "outputs": [
    {
     "name": "stdout",
     "output_type": "stream",
     "text": [
      "Requirement already up-to-date: textblob in c:\\users\\asus\\anaconda3\\lib\\site-packages (0.15.3)\n",
      "Requirement already satisfied, skipping upgrade: nltk>=3.1 in c:\\users\\asus\\anaconda3\\lib\\site-packages (from textblob) (3.5)\n",
      "Requirement already satisfied, skipping upgrade: click in c:\\users\\asus\\anaconda3\\lib\\site-packages (from nltk>=3.1->textblob) (7.1.2)\n",
      "Requirement already satisfied, skipping upgrade: joblib in c:\\users\\asus\\anaconda3\\lib\\site-packages (from nltk>=3.1->textblob) (0.17.0)\n",
      "Requirement already satisfied, skipping upgrade: tqdm in c:\\users\\asus\\anaconda3\\lib\\site-packages (from nltk>=3.1->textblob) (4.50.2)\n",
      "Requirement already satisfied, skipping upgrade: regex in c:\\users\\asus\\anaconda3\\lib\\site-packages (from nltk>=3.1->textblob) (2020.10.15)\n"
     ]
    }
   ],
   "source": [
    "!pip install -U textblob"
   ]
  },
  {
   "cell_type": "code",
   "execution_count": 9,
   "metadata": {},
   "outputs": [
    {
     "data": {
      "text/plain": [
       "0     -0.030303\n",
       "1      0.131277\n",
       "2      0.185116\n",
       "3      0.134722\n",
       "4      0.187767\n",
       "         ...   \n",
       "130    0.020746\n",
       "131    0.204545\n",
       "132    0.400000\n",
       "133   -0.343333\n",
       "134   -0.078553\n",
       "Name: sentiment, Length: 135, dtype: float64"
      ]
     },
     "execution_count": 9,
     "metadata": {},
     "output_type": "execute_result"
    }
   ],
   "source": [
    "# Textblob kütüphanesi üzerinden metinler translate() ile ingilizceye çevrildi.\n",
    "# Correct() ile yazım hataları düzeltilip onun üzerinden sentiment() ile duygu analizi yapıldı.\n",
    "# Son olarak polarity değeri alındı.\n",
    "\n",
    "from textblob import TextBlob\n",
    "train_d[\"sentiment\"] = train_d[\"Metinler\"].apply(lambda blob: TextBlob(blob).translate(to='en').correct().sentiment.polarity)\n",
    "\n",
    "train_d[\"sentiment\"] "
   ]
  },
  {
   "cell_type": "code",
   "execution_count": 10,
   "metadata": {},
   "outputs": [
    {
     "data": {
      "text/html": [
       "<div>\n",
       "<style scoped>\n",
       "    .dataframe tbody tr th:only-of-type {\n",
       "        vertical-align: middle;\n",
       "    }\n",
       "\n",
       "    .dataframe tbody tr th {\n",
       "        vertical-align: top;\n",
       "    }\n",
       "\n",
       "    .dataframe thead th {\n",
       "        text-align: right;\n",
       "    }\n",
       "</style>\n",
       "<table border=\"1\" class=\"dataframe\">\n",
       "  <thead>\n",
       "    <tr style=\"text-align: right;\">\n",
       "      <th></th>\n",
       "      <th>Metinler</th>\n",
       "      <th>Dosya_adi</th>\n",
       "      <th>sentiment</th>\n",
       "    </tr>\n",
       "  </thead>\n",
       "  <tbody>\n",
       "    <tr>\n",
       "      <th>0</th>\n",
       "      <td>bugün okulun  haftası başladı sonunda sınıfta ...</td>\n",
       "      <td>1.txt</td>\n",
       "      <td>-0.030303</td>\n",
       "    </tr>\n",
       "    <tr>\n",
       "      <th>1</th>\n",
       "      <td>merhabalar şu an çırağanın efsane tayfasının y...</td>\n",
       "      <td>10.txt</td>\n",
       "      <td>0.131277</td>\n",
       "    </tr>\n",
       "    <tr>\n",
       "      <th>2</th>\n",
       "      <td>istanbulun altini üstüne getirdik diyebilirim ...</td>\n",
       "      <td>100.txt</td>\n",
       "      <td>0.185116</td>\n",
       "    </tr>\n",
       "    <tr>\n",
       "      <th>3</th>\n",
       "      <td>hey hey o kadar mutluyum ki sınavlarım bitti y...</td>\n",
       "      <td>101.txt</td>\n",
       "      <td>0.134722</td>\n",
       "    </tr>\n",
       "    <tr>\n",
       "      <th>4</th>\n",
       "      <td>ocak  günü ilk yazımın yayınlandığı milliyet ...</td>\n",
       "      <td>102.txt</td>\n",
       "      <td>0.187767</td>\n",
       "    </tr>\n",
       "    <tr>\n",
       "      <th>...</th>\n",
       "      <td>...</td>\n",
       "      <td>...</td>\n",
       "      <td>...</td>\n",
       "    </tr>\n",
       "    <tr>\n",
       "      <th>130</th>\n",
       "      <td>dünyaya boynuna kadar borçla gelen masum bir y...</td>\n",
       "      <td>95.txt</td>\n",
       "      <td>0.020746</td>\n",
       "    </tr>\n",
       "    <tr>\n",
       "      <th>131</th>\n",
       "      <td>kalbin ağlasada gülümse inadına düşler takıp s...</td>\n",
       "      <td>96.txt</td>\n",
       "      <td>0.204545</td>\n",
       "    </tr>\n",
       "    <tr>\n",
       "      <th>132</th>\n",
       "      <td>yağmurun sesine bak aşka davet ediyor cama vur...</td>\n",
       "      <td>97.txt</td>\n",
       "      <td>0.400000</td>\n",
       "    </tr>\n",
       "    <tr>\n",
       "      <th>133</th>\n",
       "      <td>bu yazıya başlık koyamadımo kadar üzgünüm kial...</td>\n",
       "      <td>98.txt</td>\n",
       "      <td>-0.343333</td>\n",
       "    </tr>\n",
       "    <tr>\n",
       "      <th>134</th>\n",
       "      <td>o kadar üzgünüm kio kadar üzgünüm kiyaşanılan ...</td>\n",
       "      <td>99.txt</td>\n",
       "      <td>-0.078553</td>\n",
       "    </tr>\n",
       "  </tbody>\n",
       "</table>\n",
       "<p>135 rows × 3 columns</p>\n",
       "</div>"
      ],
      "text/plain": [
       "                                              Metinler Dosya_adi  sentiment\n",
       "0    bugün okulun  haftası başladı sonunda sınıfta ...     1.txt  -0.030303\n",
       "1    merhabalar şu an çırağanın efsane tayfasının y...    10.txt   0.131277\n",
       "2    istanbulun altini üstüne getirdik diyebilirim ...   100.txt   0.185116\n",
       "3    hey hey o kadar mutluyum ki sınavlarım bitti y...   101.txt   0.134722\n",
       "4     ocak  günü ilk yazımın yayınlandığı milliyet ...   102.txt   0.187767\n",
       "..                                                 ...       ...        ...\n",
       "130  dünyaya boynuna kadar borçla gelen masum bir y...    95.txt   0.020746\n",
       "131  kalbin ağlasada gülümse inadına düşler takıp s...    96.txt   0.204545\n",
       "132  yağmurun sesine bak aşka davet ediyor cama vur...    97.txt   0.400000\n",
       "133  bu yazıya başlık koyamadımo kadar üzgünüm kial...    98.txt  -0.343333\n",
       "134  o kadar üzgünüm kio kadar üzgünüm kiyaşanılan ...    99.txt  -0.078553\n",
       "\n",
       "[135 rows x 3 columns]"
      ]
     },
     "execution_count": 10,
     "metadata": {},
     "output_type": "execute_result"
    }
   ],
   "source": [
    "train_d"
   ]
  },
  {
   "cell_type": "code",
   "execution_count": 11,
   "metadata": {},
   "outputs": [],
   "source": [
    "# Polarity değeri 0'a eşitse belirsiz,\n",
    "# 0'dan küçükse olumsuz,\n",
    "# 0'dan büyükse olumlu olacak şekilde yeniden isimlendirildi.\n",
    "train_d[\"sentiment\"] = train_d[\"sentiment\"].apply(lambda x: \"Belirsiz\" if x==0 else(\"Olumsuz\" if x<0 else \"Olumlu\"))"
   ]
  },
  {
   "cell_type": "code",
   "execution_count": 12,
   "metadata": {},
   "outputs": [
    {
     "data": {
      "text/html": [
       "<div>\n",
       "<style scoped>\n",
       "    .dataframe tbody tr th:only-of-type {\n",
       "        vertical-align: middle;\n",
       "    }\n",
       "\n",
       "    .dataframe tbody tr th {\n",
       "        vertical-align: top;\n",
       "    }\n",
       "\n",
       "    .dataframe thead th {\n",
       "        text-align: right;\n",
       "    }\n",
       "</style>\n",
       "<table border=\"1\" class=\"dataframe\">\n",
       "  <thead>\n",
       "    <tr style=\"text-align: right;\">\n",
       "      <th></th>\n",
       "      <th>Metinler</th>\n",
       "      <th>Dosya_adi</th>\n",
       "      <th>sentiment</th>\n",
       "    </tr>\n",
       "  </thead>\n",
       "  <tbody>\n",
       "    <tr>\n",
       "      <th>0</th>\n",
       "      <td>bugün okulun  haftası başladı sonunda sınıfta ...</td>\n",
       "      <td>1.txt</td>\n",
       "      <td>Olumsuz</td>\n",
       "    </tr>\n",
       "    <tr>\n",
       "      <th>1</th>\n",
       "      <td>merhabalar şu an çırağanın efsane tayfasının y...</td>\n",
       "      <td>10.txt</td>\n",
       "      <td>Olumlu</td>\n",
       "    </tr>\n",
       "    <tr>\n",
       "      <th>2</th>\n",
       "      <td>istanbulun altini üstüne getirdik diyebilirim ...</td>\n",
       "      <td>100.txt</td>\n",
       "      <td>Olumlu</td>\n",
       "    </tr>\n",
       "    <tr>\n",
       "      <th>3</th>\n",
       "      <td>hey hey o kadar mutluyum ki sınavlarım bitti y...</td>\n",
       "      <td>101.txt</td>\n",
       "      <td>Olumlu</td>\n",
       "    </tr>\n",
       "    <tr>\n",
       "      <th>4</th>\n",
       "      <td>ocak  günü ilk yazımın yayınlandığı milliyet ...</td>\n",
       "      <td>102.txt</td>\n",
       "      <td>Olumlu</td>\n",
       "    </tr>\n",
       "    <tr>\n",
       "      <th>...</th>\n",
       "      <td>...</td>\n",
       "      <td>...</td>\n",
       "      <td>...</td>\n",
       "    </tr>\n",
       "    <tr>\n",
       "      <th>130</th>\n",
       "      <td>dünyaya boynuna kadar borçla gelen masum bir y...</td>\n",
       "      <td>95.txt</td>\n",
       "      <td>Olumlu</td>\n",
       "    </tr>\n",
       "    <tr>\n",
       "      <th>131</th>\n",
       "      <td>kalbin ağlasada gülümse inadına düşler takıp s...</td>\n",
       "      <td>96.txt</td>\n",
       "      <td>Olumlu</td>\n",
       "    </tr>\n",
       "    <tr>\n",
       "      <th>132</th>\n",
       "      <td>yağmurun sesine bak aşka davet ediyor cama vur...</td>\n",
       "      <td>97.txt</td>\n",
       "      <td>Olumlu</td>\n",
       "    </tr>\n",
       "    <tr>\n",
       "      <th>133</th>\n",
       "      <td>bu yazıya başlık koyamadımo kadar üzgünüm kial...</td>\n",
       "      <td>98.txt</td>\n",
       "      <td>Olumsuz</td>\n",
       "    </tr>\n",
       "    <tr>\n",
       "      <th>134</th>\n",
       "      <td>o kadar üzgünüm kio kadar üzgünüm kiyaşanılan ...</td>\n",
       "      <td>99.txt</td>\n",
       "      <td>Olumsuz</td>\n",
       "    </tr>\n",
       "  </tbody>\n",
       "</table>\n",
       "<p>135 rows × 3 columns</p>\n",
       "</div>"
      ],
      "text/plain": [
       "                                              Metinler Dosya_adi sentiment\n",
       "0    bugün okulun  haftası başladı sonunda sınıfta ...     1.txt   Olumsuz\n",
       "1    merhabalar şu an çırağanın efsane tayfasının y...    10.txt    Olumlu\n",
       "2    istanbulun altini üstüne getirdik diyebilirim ...   100.txt    Olumlu\n",
       "3    hey hey o kadar mutluyum ki sınavlarım bitti y...   101.txt    Olumlu\n",
       "4     ocak  günü ilk yazımın yayınlandığı milliyet ...   102.txt    Olumlu\n",
       "..                                                 ...       ...       ...\n",
       "130  dünyaya boynuna kadar borçla gelen masum bir y...    95.txt    Olumlu\n",
       "131  kalbin ağlasada gülümse inadına düşler takıp s...    96.txt    Olumlu\n",
       "132  yağmurun sesine bak aşka davet ediyor cama vur...    97.txt    Olumlu\n",
       "133  bu yazıya başlık koyamadımo kadar üzgünüm kial...    98.txt   Olumsuz\n",
       "134  o kadar üzgünüm kio kadar üzgünüm kiyaşanılan ...    99.txt   Olumsuz\n",
       "\n",
       "[135 rows x 3 columns]"
      ]
     },
     "execution_count": 12,
     "metadata": {},
     "output_type": "execute_result"
    }
   ],
   "source": [
    "train_d"
   ]
  },
  {
   "cell_type": "code",
   "execution_count": 13,
   "metadata": {},
   "outputs": [],
   "source": [
    "# Hangi kaydın hangi kategoriye ait olduğu dosyaya yazdırıldı.\n",
    "kategori_train_d = train_d[[\"Dosya_adi\",\"sentiment\"]]\n",
    "kategori_train_d.to_csv('sinif.txt')"
   ]
  },
  {
   "cell_type": "code",
   "execution_count": 14,
   "metadata": {},
   "outputs": [
    {
     "data": {
      "text/html": [
       "<div>\n",
       "<style scoped>\n",
       "    .dataframe tbody tr th:only-of-type {\n",
       "        vertical-align: middle;\n",
       "    }\n",
       "\n",
       "    .dataframe tbody tr th {\n",
       "        vertical-align: top;\n",
       "    }\n",
       "\n",
       "    .dataframe thead th {\n",
       "        text-align: right;\n",
       "    }\n",
       "</style>\n",
       "<table border=\"1\" class=\"dataframe\">\n",
       "  <thead>\n",
       "    <tr style=\"text-align: right;\">\n",
       "      <th></th>\n",
       "      <th>Dosya_adi</th>\n",
       "      <th>sentiment</th>\n",
       "    </tr>\n",
       "  </thead>\n",
       "  <tbody>\n",
       "    <tr>\n",
       "      <th>0</th>\n",
       "      <td>1.txt</td>\n",
       "      <td>Olumsuz</td>\n",
       "    </tr>\n",
       "    <tr>\n",
       "      <th>1</th>\n",
       "      <td>10.txt</td>\n",
       "      <td>Olumlu</td>\n",
       "    </tr>\n",
       "    <tr>\n",
       "      <th>2</th>\n",
       "      <td>100.txt</td>\n",
       "      <td>Olumlu</td>\n",
       "    </tr>\n",
       "    <tr>\n",
       "      <th>3</th>\n",
       "      <td>101.txt</td>\n",
       "      <td>Olumlu</td>\n",
       "    </tr>\n",
       "    <tr>\n",
       "      <th>4</th>\n",
       "      <td>102.txt</td>\n",
       "      <td>Olumlu</td>\n",
       "    </tr>\n",
       "    <tr>\n",
       "      <th>...</th>\n",
       "      <td>...</td>\n",
       "      <td>...</td>\n",
       "    </tr>\n",
       "    <tr>\n",
       "      <th>130</th>\n",
       "      <td>95.txt</td>\n",
       "      <td>Olumlu</td>\n",
       "    </tr>\n",
       "    <tr>\n",
       "      <th>131</th>\n",
       "      <td>96.txt</td>\n",
       "      <td>Olumlu</td>\n",
       "    </tr>\n",
       "    <tr>\n",
       "      <th>132</th>\n",
       "      <td>97.txt</td>\n",
       "      <td>Olumlu</td>\n",
       "    </tr>\n",
       "    <tr>\n",
       "      <th>133</th>\n",
       "      <td>98.txt</td>\n",
       "      <td>Olumsuz</td>\n",
       "    </tr>\n",
       "    <tr>\n",
       "      <th>134</th>\n",
       "      <td>99.txt</td>\n",
       "      <td>Olumsuz</td>\n",
       "    </tr>\n",
       "  </tbody>\n",
       "</table>\n",
       "<p>135 rows × 2 columns</p>\n",
       "</div>"
      ],
      "text/plain": [
       "    Dosya_adi sentiment\n",
       "0       1.txt   Olumsuz\n",
       "1      10.txt    Olumlu\n",
       "2     100.txt    Olumlu\n",
       "3     101.txt    Olumlu\n",
       "4     102.txt    Olumlu\n",
       "..        ...       ...\n",
       "130    95.txt    Olumlu\n",
       "131    96.txt    Olumlu\n",
       "132    97.txt    Olumlu\n",
       "133    98.txt   Olumsuz\n",
       "134    99.txt   Olumsuz\n",
       "\n",
       "[135 rows x 2 columns]"
      ]
     },
     "execution_count": 14,
     "metadata": {},
     "output_type": "execute_result"
    }
   ],
   "source": [
    "kategori_train_d"
   ]
  },
  {
   "cell_type": "code",
   "execution_count": 15,
   "metadata": {},
   "outputs": [
    {
     "name": "stderr",
     "output_type": "stream",
     "text": [
      "[nltk_data] Downloading package stopwords to\n",
      "[nltk_data]     C:\\Users\\ASUS\\AppData\\Roaming\\nltk_data...\n",
      "[nltk_data]   Package stopwords is already up-to-date!\n",
      "[nltk_data] Downloading package punkt to\n",
      "[nltk_data]     C:\\Users\\ASUS\\AppData\\Roaming\\nltk_data...\n",
      "[nltk_data]   Package punkt is already up-to-date!\n"
     ]
    },
    {
     "name": "stdout",
     "output_type": "stream",
     "text": [
      "Requirement already satisfied: textblob in c:\\users\\asus\\anaconda3\\lib\\site-packages (0.15.3)\n",
      "Requirement already satisfied: nltk>=3.1 in c:\\users\\asus\\anaconda3\\lib\\site-packages (from textblob) (3.5)\n",
      "Requirement already satisfied: click in c:\\users\\asus\\anaconda3\\lib\\site-packages (from nltk>=3.1->textblob) (7.1.2)\n",
      "Requirement already satisfied: joblib in c:\\users\\asus\\anaconda3\\lib\\site-packages (from nltk>=3.1->textblob) (0.17.0)\n",
      "Requirement already satisfied: tqdm in c:\\users\\asus\\anaconda3\\lib\\site-packages (from nltk>=3.1->textblob) (4.50.2)\n",
      "Requirement already satisfied: regex in c:\\users\\asus\\anaconda3\\lib\\site-packages (from nltk>=3.1->textblob) (2020.10.15)\n",
      "Requirement already satisfied: TurkishStemmer in c:\\users\\asus\\anaconda3\\lib\\site-packages (1.3)\n"
     ]
    }
   ],
   "source": [
    "# Kayıtlar Üzerinde Temel Metin Ön İşlemleri Yapıldı.\n",
    "\n",
    "#Stopwords\n",
    "import nltk\n",
    "nltk.download(\"stopwords\")\n",
    "from nltk.corpus import stopwords \n",
    "st_w = stopwords.words(\"turkish\")\n",
    "train_d[\"Metinler\"] = train_d[\"Metinler\"].apply(lambda x:\" \".join(i for i in x.split() if i not in st_w))\n",
    "#Tokenization\n",
    "nltk.download(\"punkt\")\n",
    "!pip install textblob\n",
    "import textblob\n",
    "from textblob import TextBlob\n",
    "train_d[\"Metinler\"].apply(lambda x: TextBlob(x).words)\n",
    "#Stemming\n",
    "!pip install TurkishStemmer \n",
    "from TurkishStemmer import TurkishStemmer\n",
    "stemmer = TurkishStemmer()\n",
    "train_d[\"Metinler\"] = train_d[\"Metinler\"].apply(lambda x:\" \".join(stemmer.stem(i) for i in  x.split()))"
   ]
  },
  {
   "cell_type": "code",
   "execution_count": 16,
   "metadata": {},
   "outputs": [
    {
     "data": {
      "text/html": [
       "<div>\n",
       "<style scoped>\n",
       "    .dataframe tbody tr th:only-of-type {\n",
       "        vertical-align: middle;\n",
       "    }\n",
       "\n",
       "    .dataframe tbody tr th {\n",
       "        vertical-align: top;\n",
       "    }\n",
       "\n",
       "    .dataframe thead th {\n",
       "        text-align: right;\n",
       "    }\n",
       "</style>\n",
       "<table border=\"1\" class=\"dataframe\">\n",
       "  <thead>\n",
       "    <tr style=\"text-align: right;\">\n",
       "      <th></th>\n",
       "      <th>Metinler</th>\n",
       "      <th>Dosya_adi</th>\n",
       "      <th>sentiment</th>\n",
       "    </tr>\n",
       "  </thead>\n",
       "  <tbody>\n",
       "    <tr>\n",
       "      <th>0</th>\n",
       "      <td>bugü okul hafta başl son sınıf mevcut tam olt ...</td>\n",
       "      <td>1.txt</td>\n",
       "      <td>Olumsuz</td>\n",
       "    </tr>\n",
       "    <tr>\n",
       "      <th>1</th>\n",
       "      <td>merhap an çırağa efsane tayfa yarı toplayabil ...</td>\n",
       "      <td>10.txt</td>\n",
       "      <td>Olumlu</td>\n",
       "    </tr>\n",
       "    <tr>\n",
       "      <th>2</th>\n",
       "      <td>istanbul altin üst getir diyebilir sabah amca ...</td>\n",
       "      <td>100.txt</td>\n",
       "      <td>Olumlu</td>\n",
       "    </tr>\n",
       "    <tr>\n",
       "      <th>3</th>\n",
       "      <td>hey hey kadar mutl sınav bitt yem eder mutl kı...</td>\n",
       "      <td>101.txt</td>\n",
       "      <td>Olumlu</td>\n",
       "    </tr>\n",
       "    <tr>\n",
       "      <th>4</th>\n",
       "      <td>ocak gün ilk yaz yayınlandık milliyet blog say...</td>\n",
       "      <td>102.txt</td>\n",
       "      <td>Olumlu</td>\n",
       "    </tr>\n",
       "    <tr>\n",
       "      <th>...</th>\n",
       "      <td>...</td>\n",
       "      <td>...</td>\n",
       "      <td>...</td>\n",
       "    </tr>\n",
       "    <tr>\n",
       "      <th>130</th>\n",
       "      <td>dünya boyn kadar borç gelen masum bir yavru st...</td>\n",
       "      <td>95.txt</td>\n",
       "      <td>Olumlu</td>\n",
       "    </tr>\n",
       "    <tr>\n",
       "      <th>131</th>\n",
       "      <td>kalbi ağlasa gül inat düş takıp saç yür umut k...</td>\n",
       "      <td>96.txt</td>\n",
       "      <td>Olumlu</td>\n",
       "    </tr>\n",
       "    <tr>\n",
       "      <th>132</th>\n",
       "      <td>yağmur ses bak aşk davet ediyor cam vuran daml...</td>\n",
       "      <td>97.txt</td>\n",
       "      <td>Olumlu</td>\n",
       "    </tr>\n",
       "    <tr>\n",
       "      <th>133</th>\n",
       "      <td>yazı başlık koyamadımo kadar üzg kiallah sabır...</td>\n",
       "      <td>98.txt</td>\n",
       "      <td>Olumsuz</td>\n",
       "    </tr>\n",
       "    <tr>\n",
       "      <th>134</th>\n",
       "      <td>kadar üzg kio kadar üzg kiyaşanılan anı yaşadı...</td>\n",
       "      <td>99.txt</td>\n",
       "      <td>Olumsuz</td>\n",
       "    </tr>\n",
       "  </tbody>\n",
       "</table>\n",
       "<p>135 rows × 3 columns</p>\n",
       "</div>"
      ],
      "text/plain": [
       "                                              Metinler Dosya_adi sentiment\n",
       "0    bugü okul hafta başl son sınıf mevcut tam olt ...     1.txt   Olumsuz\n",
       "1    merhap an çırağa efsane tayfa yarı toplayabil ...    10.txt    Olumlu\n",
       "2    istanbul altin üst getir diyebilir sabah amca ...   100.txt    Olumlu\n",
       "3    hey hey kadar mutl sınav bitt yem eder mutl kı...   101.txt    Olumlu\n",
       "4    ocak gün ilk yaz yayınlandık milliyet blog say...   102.txt    Olumlu\n",
       "..                                                 ...       ...       ...\n",
       "130  dünya boyn kadar borç gelen masum bir yavru st...    95.txt    Olumlu\n",
       "131  kalbi ağlasa gül inat düş takıp saç yür umut k...    96.txt    Olumlu\n",
       "132  yağmur ses bak aşk davet ediyor cam vuran daml...    97.txt    Olumlu\n",
       "133  yazı başlık koyamadımo kadar üzg kiallah sabır...    98.txt   Olumsuz\n",
       "134  kadar üzg kio kadar üzg kiyaşanılan anı yaşadı...    99.txt   Olumsuz\n",
       "\n",
       "[135 rows x 3 columns]"
      ]
     },
     "execution_count": 16,
     "metadata": {},
     "output_type": "execute_result"
    }
   ],
   "source": [
    "train_d"
   ]
  },
  {
   "cell_type": "code",
   "execution_count": 17,
   "metadata": {},
   "outputs": [],
   "source": [
    "# Multinomial Navie Bayes"
   ]
  },
  {
   "cell_type": "code",
   "execution_count": 18,
   "metadata": {},
   "outputs": [],
   "source": [
    "# Eğitim ve test verisi oluşturuldu.\n",
    "from sklearn.model_selection import train_test_split\n",
    "X_train, X_test, y_train, y_test = train_test_split(train_d[\"Metinler\"], train_d[\"sentiment\"], test_size = 0.10, random_state = 0)"
   ]
  },
  {
   "cell_type": "code",
   "execution_count": 19,
   "metadata": {},
   "outputs": [],
   "source": [
    "# TF-IDF İşlemi Yapıldı.\n",
    "from sklearn.feature_extraction.text import TfidfVectorizer\n",
    "vectorizer = TfidfVectorizer()\n",
    "x_train_idf = vectorizer.fit_transform(X_train)\n",
    "x_test_idf = vectorizer.transform(X_test)"
   ]
  },
  {
   "cell_type": "code",
   "execution_count": 20,
   "metadata": {},
   "outputs": [],
   "source": [
    "# Eğitim ve test verisi üzerinde Multinominal Naive Bayes Çalıştırıldı.\n",
    "\n",
    "from sklearn.naive_bayes import MultinomialNB\n",
    "from sklearn.metrics import confusion_matrix,accuracy_score\n",
    "from sklearn import metrics\n",
    "\n",
    "MNB = MultinomialNB()\n",
    "nb = MNB.fit(x_train_idf, y_train)\n",
    "\n",
    "predicted = MNB.predict(x_test_idf)\n",
    "accuracy_score = metrics.accuracy_score(y_test,predicted)"
   ]
  },
  {
   "cell_type": "code",
   "execution_count": 21,
   "metadata": {},
   "outputs": [
    {
     "data": {
      "text/plain": [
       "0.7857142857142857"
      ]
     },
     "execution_count": 21,
     "metadata": {},
     "output_type": "execute_result"
    }
   ],
   "source": [
    "#Doğruluk değeri.\n",
    "accuracy_score"
   ]
  },
  {
   "cell_type": "code",
   "execution_count": 28,
   "metadata": {},
   "outputs": [
    {
     "name": "stdin",
     "output_type": "stream",
     "text": [
      "Bir kelime giriniz, çıkış için: 'quit' yazınız:  güzel\n"
     ]
    },
    {
     "name": "stdout",
     "output_type": "stream",
     "text": [
      "['Olumlu']\n",
      "p=[[0.00362916 0.82196103 0.17440981]]\n"
     ]
    },
    {
     "name": "stdin",
     "output_type": "stream",
     "text": [
      "Bir kelime giriniz, çıkış için: 'quit' yazınız:  quit\n"
     ]
    }
   ],
   "source": [
    "# Gelen yeni kelimenin hangi kategoriye hangi olasılıkla ait olduğunu bulabiliriz.\n",
    "# Üç farklı kategori olduğu için üç farklı olasılık değeri çıkacaktır.\n",
    "# Bu üç farklı olasılık değerinden hangisi daha yüksekse kelime o kategoriye aittir.\n",
    "import numpy as np\n",
    "\n",
    "new_word = ''\n",
    "\n",
    "while new_word != 'quit':\n",
    "    new_word = input(\"Bir kelime giriniz, çıkış için: 'quit' yazınız: \")\n",
    "    if(new_word == 'quit'):\n",
    "        break\n",
    "    else:\n",
    "        m = np.array([new_word])\n",
    "        m_vector = vectorizer.transform(m)\n",
    "        m_vector  = m_vector.toarray()\n",
    "        print(MNB.predict(m_vector))\n",
    "        print(\"p={}\".format(MNB.predict_proba(m_vector)))\n",
    "    "
   ]
  },
  {
   "cell_type": "code",
   "execution_count": null,
   "metadata": {},
   "outputs": [],
   "source": []
  },
  {
   "cell_type": "code",
   "execution_count": null,
   "metadata": {},
   "outputs": [],
   "source": []
  }
 ],
 "metadata": {
  "kernelspec": {
   "display_name": "Python 3",
   "language": "python",
   "name": "python3"
  },
  "language_info": {
   "codemirror_mode": {
    "name": "ipython",
    "version": 3
   },
   "file_extension": ".py",
   "mimetype": "text/x-python",
   "name": "python",
   "nbconvert_exporter": "python",
   "pygments_lexer": "ipython3",
   "version": "3.8.5"
  }
 },
 "nbformat": 4,
 "nbformat_minor": 4
}
